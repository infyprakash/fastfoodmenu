{
  "nbformat": 4,
  "nbformat_minor": 0,
  "metadata": {
    "colab": {
      "provenance": []
    },
    "kernelspec": {
      "name": "python3",
      "display_name": "Python 3"
    },
    "language_info": {
      "name": "python"
    }
  },
  "cells": [
    {
      "cell_type": "code",
      "execution_count": 2,
      "metadata": {
        "id": "kEscRElna_aH"
      },
      "outputs": [],
      "source": [
        "import requests\n",
        "from bs4 import BeautifulSoup\n",
        "import json\n",
        "import pandas as pd\n"
      ]
    },
    {
      "cell_type": "code",
      "source": [
        "base_url = \"https://www.fastfoodmenuprices.com/nutrition/\"\n",
        "drive_path = \"/content/drive/MyDrive/Colab Notebooks/fastfood/\""
      ],
      "metadata": {
        "id": "njlI-pAUbVfx"
      },
      "execution_count": 9,
      "outputs": []
    },
    {
      "cell_type": "code",
      "source": [
        "response = requests.get(base_url)\n",
        "bs = BeautifulSoup(response.content).find(\"ul\",attrs={\"id\":\"menu-nutrition\"}).find_all('li',attrs={'class':'menu-item'})"
      ],
      "metadata": {
        "id": "Ol3U-SSgbaR-"
      },
      "execution_count": 10,
      "outputs": []
    },
    {
      "cell_type": "code",
      "source": [
        "res_name = []\n",
        "res_url = []\n",
        "for r in bs:\n",
        "  res_name.append(r.text)\n",
        "  res_url.append(r.find(\"a\")[\"href\"])"
      ],
      "metadata": {
        "id": "Sr4mCezBbo95"
      },
      "execution_count": 11,
      "outputs": []
    },
    {
      "cell_type": "code",
      "source": [
        "try:\n",
        "  for i in range(len(res_url)):\n",
        "    print(f\"processing:{res_url[i]}\".center(100,'-'))\n",
        "    data = []\n",
        "    res = requests.get(res_url[i])\n",
        "    bs = BeautifulSoup(res.content).find_all('table', id=lambda x: x and x.startswith('tablepress-'))[0]\n",
        "    headings = bs.find(\"thead\").find_all(\"th\")\n",
        "    h = []\n",
        "    for head in headings:\n",
        "      h.append(head.text)\n",
        "    \n",
        "    tbody = bs.find('tbody').find_all('tr')\n",
        "    for row in tbody:\n",
        "      tds = row.find_all('td')\n",
        "      d = {}\n",
        "      if(len(tds)==1):\n",
        "        continue\n",
        "      else:\n",
        "        for j in range(len(tds)):\n",
        "          d[h[j]] = tds[j].text\n",
        "      data.append(d)\n",
        "    df = pd.DataFrame(data)\n",
        "    df.to_csv(drive_path+res_name[i]+'.csv')\n",
        "except Exception as e:\n",
        "  pass\n",
        "  "
      ],
      "metadata": {
        "colab": {
          "base_uri": "https://localhost:8080/"
        },
        "id": "Qg68kitmhfaB",
        "outputId": "51840804-3221-48a2-a525-abc7702d57f0"
      },
      "execution_count": 12,
      "outputs": [
        {
          "output_type": "stream",
          "name": "stdout",
          "text": [
            "-------------------processing:https://www.fastfoodmenuprices.com/arbys-nutrition/-------------------\n",
            "--------------processing:https://www.fastfoodmenuprices.com/asian-buffet-menu-prices/---------------\n",
            "-----------------processing:https://www.fastfoodmenuprices.com/bob-evans-nutrition/-----------------\n",
            "-----------------processing:https://www.fastfoodmenuprices.com/bojangles-nutrition/-----------------\n",
            "------------processing:https://www.fastfoodmenuprices.com/buffalo-wild-wings-nutrition/-------------\n",
            "----------------processing:https://www.fastfoodmenuprices.com/burger-king-nutrition/----------------\n",
            "----------------processing:https://www.fastfoodmenuprices.com/captain-ds-nutrition/-----------------\n",
            "-----------------processing:https://www.fastfoodmenuprices.com/checkers-nutrition/------------------\n",
            "------------processing:https://www.fastfoodmenuprices.com/cheesecake-factory-nutrition/-------------\n",
            "----------------processing:https://www.fastfoodmenuprices.com/chick-fil-a-nutrition/----------------\n",
            "-----------------processing:https://www.fastfoodmenuprices.com/chipotle-nutrition/------------------\n",
            "------------------processing:https://www.fastfoodmenuprices.com/churchs-nutrition/------------------\n",
            "------------------processing:https://www.fastfoodmenuprices.com/cookout-nutrition/------------------\n",
            "------------------processing:https://www.fastfoodmenuprices.com/culvers-nutrition/------------------\n",
            "----------------processing:https://www.fastfoodmenuprices.com/dairy-queen-nutrition/----------------\n",
            "-----------------processing:https://www.fastfoodmenuprices.com/del-taco-nutrition/------------------\n",
            "------------------processing:https://www.fastfoodmenuprices.com/dennys-nutrition/-------------------\n",
            "------------------processing:https://www.fastfoodmenuprices.com/dominos-nutrition/------------------\n",
            "---------------processing:https://www.fastfoodmenuprices.com/dunkin-donuts-nutrition/---------------\n",
            "----------------processing:https://www.fastfoodmenuprices.com/dutch-bros-nutrition/-----------------\n",
            "---------------processing:https://www.fastfoodmenuprices.com/el-pollo-loco-nutrition/---------------\n",
            "-----------------processing:https://www.fastfoodmenuprices.com/five-guys-nutrition/-----------------\n",
            "------------------processing:https://www.fastfoodmenuprices.com/freddys-nutrition/------------------\n",
            "------------------processing:https://www.fastfoodmenuprices.com/hardees-nutrition/------------------\n",
            "-----------------processing:https://www.fastfoodmenuprices.com/in-n-out-nutrition/------------------\n",
            "--------------processing:https://www.fastfoodmenuprices.com/jack-in-the-box-nutrition/--------------\n",
            "---------------processing:https://www.fastfoodmenuprices.com/jersey-mikes-nutrition/----------------\n",
            "----------------processing:https://www.fastfoodmenuprices.com/jimmy-johns-nutrition/----------------\n",
            "--------------------processing:https://www.fastfoodmenuprices.com/kfc-nutrition/--------------------\n",
            "---------------processing:https://www.fastfoodmenuprices.com/krispy-kreme-nutrition/----------------\n",
            "--------------processing:https://www.fastfoodmenuprices.com/little-caesars-nutrition/---------------\n",
            "-----------------processing:https://www.fastfoodmenuprices.com/mcdonalds-nutrition/-----------------\n",
            "----------------processing:https://www.fastfoodmenuprices.com/old-chicago-nutrition/----------------\n",
            "------------------processing:https://www.fastfoodmenuprices.com/panera-nutrition/-------------------\n",
            "----------------processing:https://www.fastfoodmenuprices.com/papa-johns-nutrition/-----------------\n",
            "-----------------processing:https://www.fastfoodmenuprices.com/pizza-hut-nutrition/-----------------\n",
            "------------------processing:https://www.fastfoodmenuprices.com/popeyes-nutrition/------------------\n",
            "-------------------processing:https://www.fastfoodmenuprices.com/qdoba-nutrition/-------------------\n",
            "---------------processing:https://www.fastfoodmenuprices.com/raising-canes-nutrition/---------------\n",
            "----------------processing:https://www.fastfoodmenuprices.com/red-lobster-nutrition/----------------\n",
            "------------------processing:https://www.fastfoodmenuprices.com/sizzler-nutrition/------------------\n",
            "-------------------processing:https://www.fastfoodmenuprices.com/sonic-nutrition/-------------------\n",
            "-----------------processing:https://www.fastfoodmenuprices.com/starbucks-nutrition/-----------------\n",
            "---------------processing:https://www.fastfoodmenuprices.com/steak-n-shake-nutrition/---------------\n",
            "------------------processing:https://www.fastfoodmenuprices.com/subway-nutrition/-------------------\n",
            "-----------------processing:https://www.fastfoodmenuprices.com/taco-bell-nutrition/-----------------\n",
            "--------------processing:https://www.fastfoodmenuprices.com/texas-roadhouse-nutrition/--------------\n",
            "----------------processing:https://www.fastfoodmenuprices.com/tim-hortons-nutrition/----------------\n",
            "---------------processing:https://www.fastfoodmenuprices.com/waffle-house-nutrition/----------------\n",
            "-------------------processing:https://www.fastfoodmenuprices.com/wawa-nutrition/--------------------\n",
            "------------------processing:https://www.fastfoodmenuprices.com/wendys-nutrition/-------------------\n",
            "----------------processing:https://www.fastfoodmenuprices.com/whataburger-nutrition/----------------\n",
            "---------------processing:https://www.fastfoodmenuprices.com/white-castle-nutrition/----------------\n",
            "-----------------processing:https://www.fastfoodmenuprices.com/wingstop-nutrition/------------------\n",
            "------------------processing:https://www.fastfoodmenuprices.com/zaxbys-nutrition/-------------------\n"
          ]
        }
      ]
    },
    {
      "cell_type": "code",
      "source": [],
      "metadata": {
        "id": "wmI_awp_gpq5"
      },
      "execution_count": 12,
      "outputs": []
    }
  ]
}